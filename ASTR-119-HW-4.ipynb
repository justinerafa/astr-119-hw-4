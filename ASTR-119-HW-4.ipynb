{
 "cells": [
  {
   "cell_type": "code",
   "execution_count": null,
   "metadata": {},
   "outputs": [],
   "source": [
    "%matplotlib inline\n",
    "import numpy as np \n",
    "import matplotlib.pyplot as plt \n",
    "from math import exp       #exp(x) returns e**x"
   ]
  },
  {
   "cell_type": "code",
   "execution_count": null,
   "metadata": {},
   "outputs": [],
   "source": [
    "cos = np.cos \n",
    "sin = np.sin\n",
    "pi = np.pi"
   ]
  },
  {
   "cell_type": "markdown",
   "metadata": {},
   "source": [
    "## Define a function and the integral "
   ]
  },
  {
   "cell_type": "code",
   "execution_count": null,
   "metadata": {},
   "outputs": [],
   "source": [
    "def func(x): \n",
    "    return exp(-2*x) * cos(10*x)"
   ]
  },
  {
   "cell_type": "code",
   "execution_count": null,
   "metadata": {},
   "outputs": [],
   "source": [
    "def func_int(x): \n",
    "    return (-1/52)*exp(-2*x)*cos(10*x) - 5*sin(10*x)"
   ]
  },
  {
   "cell_type": "markdown",
   "metadata": {},
   "source": [
    "## The Trapezoid Method"
   ]
  },
  {
   "cell_type": "code",
   "execution_count": null,
   "metadata": {},
   "outputs": [],
   "source": [
    "def trap_core(f,x,h):\n",
    "    return 0.5*h*(f(x+h)+f(x))    #this defines the core of the trapezoid method (area of the trapezoid) "
   ]
  },
  {
   "cell_type": "code",
   "execution_count": null,
   "metadata": {},
   "outputs": [],
   "source": [
    "def trap_method(f,a,b,N):\n",
    "#Where f is the function to integrate, a and b are the lower and upper limits\n",
    "# and N is the # of evaluations\n",
    "\n",
    "    x = np.linspace(a,b,N)     #this defines the x values to use for trapezoid rule \n",
    "    h = x[1]-x[0]              # heights used for trapezoid \n",
    "    \n",
    "    Fint = 0.0    #this defines the value of the integral \n",
    "    \n",
    "    for i in range (0,len(x)-1, 1):\n",
    "        Fint += trap_core(f,x[i],h)     #this performs the integral using the trapezoid method \n",
    "    \n",
    "    return Fint\n",
    "    print('# iterations = {}'.format(i))     #this will count the number of iterations performed \n",
    "                                            #whatever the number of i is will be put into the {} \n",
    "    "
   ]
  },
  {
   "cell_type": "markdown",
   "metadata": {},
   "source": [
    "## Simpson's Method "
   ]
  },
  {
   "cell_type": "code",
   "execution_count": null,
   "metadata": {},
   "outputs": [],
   "source": [
    "def simp_core(f,x,h):\n",
    "    return h*(f(x)+4*f(x+h)+f(x+2*h))/3"
   ]
  },
  {
   "cell_type": "code",
   "execution_count": null,
   "metadata": {},
   "outputs": [],
   "source": [
    "def simp_method(f,a,b,N):\n",
    "    #Where f is the function to integrate, a and b are the lower and upper limits\n",
    "    # and N is the # of evaluations\n",
    "    # number of chunks will be odd\n",
    "\n",
    "    x = np.linspace(a,b,N)                       #defines the range of the integral \n",
    "    h = x[1]-x[0]                                #heights \n",
    "\n",
    "    Fint = 0.0\n",
    "\n",
    "    for i in range(0,len(x)-2,2):\n",
    "        Fint += simp_core(f,x[i],h)\n",
    "    \n",
    "    if((N%2)==0):                                #if N is even\n",
    "        Fint += simp_core(f,x[-2],0.5*h)         #apply simpson's rule over the last interval\n",
    "        \n",
    "    return Fint\n",
    "    print('# of iterations = {}'.format(i)) "
   ]
  },
  {
   "cell_type": "markdown",
   "metadata": {},
   "source": [
    "## Romberg Method"
   ]
  },
  {
   "cell_type": "code",
   "execution_count": null,
   "metadata": {},
   "outputs": [],
   "source": [
    "def rom_core(f,a,b,i):\n",
    "    \n",
    "    h = b-a                   #this is the difference between a and b \n",
    "    \n",
    "    dh = h/2.**(i)            #this is the increment between evalutations \n",
    "    \n",
    "    K = h/2.**(i+1)           #cofactor \n",
    "    \n",
    "    M = 0.0\n",
    "    for j in range (2**i): \n",
    "        M += f(a +0.5*dh +j*dh)\n",
    "        \n",
    "    return K*M"
   ]
  },
  {
   "cell_type": "code",
   "execution_count": null,
   "metadata": {},
   "outputs": [],
   "source": [
    "def rom_method(f,a,b,tol):\n",
    "    i = 0                               \n",
    "    imax = 1000                                      #maximum number of iterations \n",
    "    delta = 100*np.fabs(tol)                         #error estimate \n",
    "    \n",
    "    I = np.zeros(imax,dtype=float)\n",
    "    \n",
    "    I[0] = 0.5*(b-a)*(f(a) +f(b))                    #zeroth iteration\n",
    "    \n",
    "    i += 1                                           #iterate \n",
    "    \n",
    "    while(delta>tol):\n",
    "        I[i] = 0.5*I[i-1] + rom_core(f,a,b,i)\n",
    "        \n",
    "        delta = np.fabs(I[i]-I[i-1]/I[i])            #fractional error estimate\n",
    "        \n",
    "        print(i,I[i],I[i-1], delta)\n",
    "        \n",
    "        if (delta>tol):\n",
    "            \n",
    "            i+=1                                     #iterate by 1 again \n",
    "            \n",
    "            if(i>imax):                              #if the maximum number of iterations is reached \n",
    "                print('Max number of iterations reached.')\n",
    "                raise StopIteration('Stopping interations after',i)\n",
    "                \n",
    "    return I[i]\n",
    "    print('# of iterations = {}'.format(i))\n",
    "    "
   ]
  },
  {
   "cell_type": "code",
   "execution_count": null,
   "metadata": {},
   "outputs": [],
   "source": [
    "Answer = func_int(pi)-func_int(0)\n",
    "print(Answer)\n",
    "print('Trapezoid')\n",
    "print(trap_method(func,0,pi,100))\n",
    "print('Simpsons')\n",
    "print(simp_method(func,0,pi,100))\n",
    "print('Romberg')\n",
    "tolerance = 1.0e-6\n",
    "RI = rom_method(func,0,pi,tolerance)\n",
    "print(RI, (RI-Answer)/Answer, tolerance)"
   ]
  },
  {
   "cell_type": "code",
   "execution_count": null,
   "metadata": {},
   "outputs": [],
   "source": []
  }
 ],
 "metadata": {
  "kernelspec": {
   "display_name": "Python 3",
   "language": "python",
   "name": "python3"
  },
  "language_info": {
   "codemirror_mode": {
    "name": "ipython",
    "version": 3
   },
   "file_extension": ".py",
   "mimetype": "text/x-python",
   "name": "python",
   "nbconvert_exporter": "python",
   "pygments_lexer": "ipython3",
   "version": "3.4.6"
  }
 },
 "nbformat": 4,
 "nbformat_minor": 2
}
